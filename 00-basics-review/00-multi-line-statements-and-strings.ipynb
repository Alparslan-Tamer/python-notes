{
 "cells": [
  {
   "cell_type": "markdown",
   "id": "c634e5f6-bf89-4755-90df-482b54f06ade",
   "metadata": {},
   "source": [
    "# Multi-Line Statements and Strings\n",
    "\n",
    "Certain physical newlines are ignored in order to form a complete logical line of code."
   ]
  },
  {
   "cell_type": "markdown",
   "id": "1dafa7ca-d8d3-4609-ae07-ee88465b59f6",
   "metadata": {},
   "source": [
    "## Implicit Examples\n",
    "\n",
    "* In some cases, your statements may be long and difficult to read. To prevent such situations, you can divide your expression into lines and increase its readability. For implicit statements, you can find use cases in below."
   ]
  },
  {
   "cell_type": "code",
   "execution_count": 34,
   "id": "7ff217c1-9061-4991-b1ca-dbecc9ddc436",
   "metadata": {},
   "outputs": [],
   "source": [
    "a = [1, \n",
    "    2, \n",
    "    3]"
   ]
  },
  {
   "cell_type": "code",
   "execution_count": 35,
   "id": "f426c811-2299-4709-9d62-886bebc8dc5d",
   "metadata": {},
   "outputs": [
    {
     "data": {
      "text/plain": [
       "[1, 2, 3]"
      ]
     },
     "execution_count": 35,
     "metadata": {},
     "output_type": "execute_result"
    }
   ],
   "source": [
    "a"
   ]
  },
  {
   "cell_type": "markdown",
   "id": "df620f42-e10f-4cda-9472-51fc72f7e37a",
   "metadata": {},
   "source": [
    "You may need also add comments to the end of eacg physical line:"
   ]
  },
  {
   "cell_type": "code",
   "execution_count": 37,
   "id": "96a2766a-86ab-4fd1-baea-6711191ba199",
   "metadata": {},
   "outputs": [],
   "source": [
    "a = [1, # comment\n",
    "     2, # comment\n",
    "     3 # comment\n",
    "    ]"
   ]
  },
  {
   "cell_type": "code",
   "execution_count": 38,
   "id": "05bacec1-ebe0-47be-bf4e-71e07867bff0",
   "metadata": {},
   "outputs": [
    {
     "data": {
      "text/plain": [
       "[1, 2, 3]"
      ]
     },
     "execution_count": 38,
     "metadata": {},
     "output_type": "execute_result"
    }
   ],
   "source": [
    "a"
   ]
  },
  {
   "cell_type": "code",
   "execution_count": 9,
   "id": "2fd75990-3e2f-47b5-a706-1bf7c9b5ce00",
   "metadata": {},
   "outputs": [],
   "source": [
    "a = {\"key1\": 1, # value for key 1\n",
    "     \"key2\": 2, # value for key 2\n",
    "    }"
   ]
  },
  {
   "cell_type": "markdown",
   "id": "b7dcf6cf-52ea-44fc-9fc8-4dedae6aeca0",
   "metadata": {},
   "source": [
    "Note if you do use comments, you must close off the collection on a new line.\n",
    "\n",
    "i.e. the following will not work since the closing ] is actually part of the comment:"
   ]
  },
  {
   "cell_type": "code",
   "execution_count": 39,
   "id": "bdc2ca7f-2fa2-4407-ad2b-b6cea92726c7",
   "metadata": {},
   "outputs": [
    {
     "ename": "SyntaxError",
     "evalue": "unexpected EOF while parsing (<ipython-input-39-6b11c8b986e4>, line 2)",
     "output_type": "error",
     "traceback": [
      "\u001b[0;36m  File \u001b[0;32m\"<ipython-input-39-6b11c8b986e4>\"\u001b[0;36m, line \u001b[0;32m2\u001b[0m\n\u001b[0;31m    2 #second element]\u001b[0m\n\u001b[0m                      ^\u001b[0m\n\u001b[0;31mSyntaxError\u001b[0m\u001b[0;31m:\u001b[0m unexpected EOF while parsing\n"
     ]
    }
   ],
   "source": [
    "a = [1, # first element\n",
    "    2 #second element]"
   ]
  },
  {
   "cell_type": "markdown",
   "id": "9b2eabab-22de-45d0-9e54-3847f09f1e9f",
   "metadata": {},
   "source": [
    "This works the same way for tuples, sets, and dictionaries."
   ]
  },
  {
   "cell_type": "code",
   "execution_count": 40,
   "id": "b0024c9e-15f2-4613-bb84-6f46b543044d",
   "metadata": {},
   "outputs": [],
   "source": [
    "a = (1, # first element\n",
    "    2, #second element\n",
    "    3, #third element\n",
    "    )"
   ]
  },
  {
   "cell_type": "code",
   "execution_count": 41,
   "id": "7e86980a-42dd-4218-b6c7-a007d38e7726",
   "metadata": {},
   "outputs": [
    {
     "data": {
      "text/plain": [
       "(1, 2, 3)"
      ]
     },
     "execution_count": 41,
     "metadata": {},
     "output_type": "execute_result"
    }
   ],
   "source": [
    "a"
   ]
  },
  {
   "cell_type": "code",
   "execution_count": 42,
   "id": "70c171cd-72e5-4ba7-a980-373abe37cf1d",
   "metadata": {},
   "outputs": [],
   "source": [
    "a = {1, # first element\n",
    "    2, #second element\n",
    "    }"
   ]
  },
  {
   "cell_type": "code",
   "execution_count": 43,
   "id": "f567467f-a3d5-4e40-995e-4d5603fb338d",
   "metadata": {},
   "outputs": [
    {
     "data": {
      "text/plain": [
       "{1, 2}"
      ]
     },
     "execution_count": 43,
     "metadata": {},
     "output_type": "execute_result"
    }
   ],
   "source": [
    "a"
   ]
  },
  {
   "cell_type": "code",
   "execution_count": 44,
   "id": "f96fc1ec-1b4c-46e8-96de-44c16d462d79",
   "metadata": {},
   "outputs": [],
   "source": [
    "a = {'key1': 'value1', #comment,\n",
    "    'key2': #comment\n",
    "    'value2' #comment\n",
    "    }"
   ]
  },
  {
   "cell_type": "code",
   "execution_count": 45,
   "id": "bd3e2b0d-4f4e-4b34-8a1b-2ee085f44fcc",
   "metadata": {},
   "outputs": [
    {
     "data": {
      "text/plain": [
       "{'key1': 'value1', 'key2': 'value2'}"
      ]
     },
     "execution_count": 45,
     "metadata": {},
     "output_type": "execute_result"
    }
   ],
   "source": [
    "a"
   ]
  },
  {
   "cell_type": "code",
   "execution_count": 19,
   "id": "ef953a97-1684-40d8-8357-3fe4b22e21a9",
   "metadata": {},
   "outputs": [
    {
     "name": "stdout",
     "output_type": "stream",
     "text": [
      "yes!\n"
     ]
    }
   ],
   "source": [
    "if a > 5 \\\n",
    "    and b > 10 \\\n",
    "        and c > 20:\n",
    "    print(\"yes!\")"
   ]
  },
  {
   "cell_type": "markdown",
   "id": "9295bc7c-9bff-4cec-bfa4-e315283f53e1",
   "metadata": {},
   "source": [
    "We can also break up function arguments and parameters:"
   ]
  },
  {
   "cell_type": "code",
   "execution_count": 46,
   "id": "0ff64d36-9290-4f18-9708-3e6a14a8f856",
   "metadata": {},
   "outputs": [],
   "source": [
    "def my_func(a, #some comment\n",
    "           b, c):\n",
    "    print(a, b, c)"
   ]
  },
  {
   "cell_type": "code",
   "execution_count": 47,
   "id": "179fb4a5-8a72-4928-8762-99a664a115bf",
   "metadata": {},
   "outputs": [
    {
     "name": "stdout",
     "output_type": "stream",
     "text": [
      "10 20 30\n"
     ]
    }
   ],
   "source": [
    "my_func(10, #comment\n",
    "       20, #comment\n",
    "       30)"
   ]
  },
  {
   "cell_type": "markdown",
   "id": "1ca48f3b-3b41-41df-bd38-dad7f183ee5d",
   "metadata": {},
   "source": [
    "## Explicit Examples\n",
    "\n",
    "You can use the ``\\`` character to explicitly create multi-line statements. Also, you can't write comments end of each line. If you want, only you can write some comments after `:`."
   ]
  },
  {
   "cell_type": "code",
   "execution_count": 48,
   "id": "25ac9bcc-b9fd-466b-a619-08162587bd12",
   "metadata": {},
   "outputs": [
    {
     "name": "stdout",
     "output_type": "stream",
     "text": [
      "yes!!\n"
     ]
    }
   ],
   "source": [
    "a = 10\n",
    "b = 20\n",
    "c = 30\n",
    "if a > 5 \\\n",
    "    and b > 10 \\\n",
    "    and c > 20:\n",
    "    print('yes!!')"
   ]
  },
  {
   "cell_type": "markdown",
   "id": "61c4c394-382f-47b8-bae2-7e9aa47e3a44",
   "metadata": {},
   "source": [
    "The identation in continued-lines does not matter:"
   ]
  },
  {
   "cell_type": "code",
   "execution_count": 49,
   "id": "cd638bd1-b0a4-42fc-86cc-c43c041f93b0",
   "metadata": {},
   "outputs": [
    {
     "name": "stdout",
     "output_type": "stream",
     "text": [
      "yes!!\n"
     ]
    }
   ],
   "source": [
    "a = 10\n",
    "b = 20\n",
    "c = 30\n",
    "if a > 5 \\\n",
    "    and b > 10 \\\n",
    "        and c > 20:\n",
    "    print('yes!!')"
   ]
  },
  {
   "cell_type": "markdown",
   "id": "e5545354-82ce-4257-9ef2-7bceefa6a0b9",
   "metadata": {},
   "source": [
    "## Multi-Line Strings\n",
    "\n",
    "You can create multi-line strings by using triple delimiters (single or double quotes)"
   ]
  },
  {
   "cell_type": "code",
   "execution_count": 50,
   "id": "c9c2d399-f9b3-41e4-a61b-ab84c4916f45",
   "metadata": {},
   "outputs": [],
   "source": [
    "a = '''this is\n",
    "a multi-line string'''"
   ]
  },
  {
   "cell_type": "code",
   "execution_count": 51,
   "id": "34108304-73f4-4b50-8563-0218d4abc26e",
   "metadata": {},
   "outputs": [
    {
     "name": "stdout",
     "output_type": "stream",
     "text": [
      "this is\n",
      "a multi-line string\n"
     ]
    }
   ],
   "source": [
    "print(a)"
   ]
  },
  {
   "cell_type": "markdown",
   "id": "1cace121-54e3-45e3-9d7a-9298832443aa",
   "metadata": {},
   "source": [
    "Note how the newline character we typed in the multi-line string was preserved. Any character you type is preserved. You can also mix in escaped characters line any normal string."
   ]
  },
  {
   "cell_type": "code",
   "execution_count": 52,
   "id": "424c17c3-4fc8-4e9d-a11c-428a41116118",
   "metadata": {},
   "outputs": [],
   "source": [
    "a = \"\"\"some items:\\n\n",
    "    1. item 1\n",
    "    2. item 2\"\"\""
   ]
  },
  {
   "cell_type": "code",
   "execution_count": 53,
   "id": "303aef59-dad1-447d-9cdf-68fe7775da3b",
   "metadata": {},
   "outputs": [
    {
     "name": "stdout",
     "output_type": "stream",
     "text": [
      "some items:\n",
      "\n",
      "    1. item 1\n",
      "    2. item 2\n"
     ]
    }
   ],
   "source": [
    "print(a)"
   ]
  },
  {
   "cell_type": "markdown",
   "id": "625a04bf-9ae1-46cc-8e8a-4bc612cc7c4c",
   "metadata": {},
   "source": [
    "Be careful if you indent your multi-line strings - the extra spaces are preserved!"
   ]
  },
  {
   "cell_type": "code",
   "execution_count": 54,
   "id": "b65744cd-fdf6-47a0-af1c-4c6b0078ad1c",
   "metadata": {},
   "outputs": [],
   "source": [
    "def my_func():\n",
    "    a = '''a multi-line string\n",
    "    that is actually indented in the second line'''\n",
    "    return a"
   ]
  },
  {
   "cell_type": "code",
   "execution_count": 55,
   "id": "41999e42-f696-4e9f-89f8-3723ea482212",
   "metadata": {},
   "outputs": [
    {
     "name": "stdout",
     "output_type": "stream",
     "text": [
      "a multi-line string\n",
      "    that is actually indented in the second line\n"
     ]
    }
   ],
   "source": [
    "print(my_func())"
   ]
  },
  {
   "cell_type": "code",
   "execution_count": 56,
   "id": "399143ce-aa27-4d35-a94a-c66c23d41909",
   "metadata": {},
   "outputs": [],
   "source": [
    "def my_func():\n",
    "    a = '''a multi-line string\n",
    "that is not indented in the second line'''\n",
    "    return a"
   ]
  },
  {
   "cell_type": "code",
   "execution_count": 57,
   "id": "dbb06cdb-0329-414e-b257-4b7c0e1cea75",
   "metadata": {},
   "outputs": [
    {
     "name": "stdout",
     "output_type": "stream",
     "text": [
      "a multi-line string\n",
      "that is not indented in the second line\n"
     ]
    }
   ],
   "source": [
    "print(my_func())"
   ]
  },
  {
   "cell_type": "markdown",
   "id": "6f9b34a5-9e82-4f96-91a1-a9e3b2f02676",
   "metadata": {},
   "source": [
    "Note that these multi-line strings are _not_ comments - they are real strings and, unlike comments, are part of your compiled code. They are however sometimes used to create comments, such as ``docstrings``, that we will cover later in this course."
   ]
  },
  {
   "cell_type": "markdown",
   "id": "0008aca8-010f-41b0-ad0a-f0f1407d0b3b",
   "metadata": {},
   "source": [
    "In general, use ``#`` to comment your code, and use multi-line strings only when actually needed (like for docstrings)."
   ]
  },
  {
   "cell_type": "markdown",
   "id": "9b88b888-979a-462f-b748-df4bbbabc870",
   "metadata": {},
   "source": [
    "Also, there are no multi-line comments in Python. You simply have to use a ``#`` on every line."
   ]
  },
  {
   "cell_type": "code",
   "execution_count": 58,
   "id": "b507749b-ad24-4421-b4fc-05b720a433ce",
   "metadata": {},
   "outputs": [],
   "source": [
    "# this is\n",
    "#    a multi-line\n",
    "#    comment"
   ]
  },
  {
   "cell_type": "markdown",
   "id": "4d0359fd-46ae-436c-ae29-b641f8ecd80e",
   "metadata": {},
   "source": [
    "The following works, but the above formatting is preferrable."
   ]
  },
  {
   "cell_type": "code",
   "execution_count": 59,
   "id": "1491f113-789a-4ebc-bd79-33c0d3af1d85",
   "metadata": {},
   "outputs": [],
   "source": [
    "# this is\n",
    "    # a multi-line\n",
    "    # comment"
   ]
  }
 ],
 "metadata": {
  "kernelspec": {
   "display_name": "Python 3.6.9 64-bit",
   "language": "python",
   "name": "python369jvsc74a57bd031f2aee4e71d21fbe5cf8b01ff0e069b9275f58929596ceb00d14d90e3e16cd6"
  },
  "language_info": {
   "codemirror_mode": {
    "name": "ipython",
    "version": 3
   },
   "file_extension": ".py",
   "mimetype": "text/x-python",
   "name": "python",
   "nbconvert_exporter": "python",
   "pygments_lexer": "ipython3",
   "version": "3.6.9"
  }
 },
 "nbformat": 4,
 "nbformat_minor": 5
}
