{
 "cells": [
  {
   "cell_type": "markdown",
   "id": "f683ef99-092e-464f-b761-c5f4962d6e2b",
   "metadata": {},
   "source": [
    "# Conditionals\n",
    "\n",
    "A conditional is a construct that allows you to branch your code based on conditions being met (or not)."
   ]
  },
  {
   "cell_type": "markdown",
   "id": "0613500a-3acb-49e6-9f93-6ff2214964de",
   "metadata": {},
   "source": [
    "This is achieved using `if`, `elif`, and `else` or the `ternary operator` (aka conditional expression)."
   ]
  },
  {
   "cell_type": "code",
   "execution_count": 17,
   "id": "98284bba-ce7e-4969-838b-ea28dc4d8b3e",
   "metadata": {},
   "outputs": [
    {
     "name": "stdout",
     "output_type": "stream",
     "text": [
      "a < 3\n"
     ]
    }
   ],
   "source": [
    "a = 2\n",
    "\n",
    "if a < 3:\n",
    "    print(\"a < 3\")\n",
    "else:\n",
    "    print(\"a >= 3\")"
   ]
  },
  {
   "cell_type": "markdown",
   "id": "5296182c-88f1-4a04-8bf5-2317135a1bbe",
   "metadata": {},
   "source": [
    "`if` statements can be nested."
   ]
  },
  {
   "cell_type": "code",
   "execution_count": 8,
   "id": "65160ce8-5feb-4dc6-a4c6-714e57a807ea",
   "metadata": {},
   "outputs": [
    {
     "name": "stdout",
     "output_type": "stream",
     "text": [
      "a < 5\n"
     ]
    }
   ],
   "source": [
    "a = 4\n",
    "\n",
    "if a < 5:\n",
    "    print(\"a < 5\")\n",
    "else:\n",
    "    if a < 10:\n",
    "        print(\"5 <= a < 10\")\n",
    "    else:\n",
    "        print(\"a >= 10\")"
   ]
  },
  {
   "cell_type": "markdown",
   "id": "67eb0b5e-6ffb-4962-af77-55e896e46810",
   "metadata": {},
   "source": [
    "But the `elif` statement provides far better readibility:"
   ]
  },
  {
   "cell_type": "code",
   "execution_count": 18,
   "id": "8fcb03ac-f2d9-4161-b858-d860ba18c243",
   "metadata": {},
   "outputs": [
    {
     "name": "stdout",
     "output_type": "stream",
     "text": [
      "a >= 10\n"
     ]
    }
   ],
   "source": [
    "a = 15\n",
    "\n",
    "if a < 5:\n",
    "    print(\"a < 5\")\n",
    "elif a < 10:\n",
    "    print(\"5 <= a < 10\")\n",
    "else:\n",
    "    print(\"a >= 10\")"
   ]
  },
  {
   "cell_type": "markdown",
   "id": "a52e3e89-7db2-4af3-a3dc-d3d8ac2db8cc",
   "metadata": {},
   "source": [
    "In Python, `elif` is the closest you will find to the switch/case statement available in some other languages."
   ]
  },
  {
   "cell_type": "markdown",
   "id": "b0976678-5037-4611-a3e9-599f200a6a90",
   "metadata": {},
   "source": [
    "Python also provides a conditional expression (ternary operator):\n",
    "\n",
    "X if (condition) else Y\n",
    "\n",
    "returns (and evaluates) X if (condition) is True, otherwise returns (and evaluates) Y"
   ]
  },
  {
   "cell_type": "code",
   "execution_count": 21,
   "id": "aaa34f46-d309-4228-a4ad-13b079a98476",
   "metadata": {},
   "outputs": [
    {
     "name": "stdout",
     "output_type": "stream",
     "text": [
      "a < 10\n"
     ]
    }
   ],
   "source": [
    "a = 5\n",
    "res = \"a < 10\" if a < 10 else \"a >= 10\"\n",
    "print(res)"
   ]
  },
  {
   "cell_type": "code",
   "execution_count": 22,
   "id": "8bdf0a72-5df1-4d23-8fe6-9793013f4bbe",
   "metadata": {},
   "outputs": [
    {
     "name": "stdout",
     "output_type": "stream",
     "text": [
      "a >= 10\n"
     ]
    }
   ],
   "source": [
    "a = 10\n",
    "res = \"a < 10\" if a < 10 else \"a >= 10\"\n",
    "print(res)"
   ]
  },
  {
   "cell_type": "markdown",
   "id": "e3bfd632-908c-4c62-b4d1-b8582a10c1fc",
   "metadata": {},
   "source": [
    "Note that **X** and **Y** can be any expression, not just literal values:"
   ]
  },
  {
   "cell_type": "code",
   "execution_count": 28,
   "id": "caa79ae8-ae5a-4370-97a1-8331edbad587",
   "metadata": {},
   "outputs": [],
   "source": [
    "def less_than_ten():\n",
    "    print('Your number is less than 10!')\n",
    "    \n",
    "def greater_than_or_equal_ten():\n",
    "    print('Your number is greater than or equal 10!')"
   ]
  },
  {
   "cell_type": "code",
   "execution_count": 29,
   "id": "224257f5-73a3-4dd3-8f08-6e888c36c20a",
   "metadata": {},
   "outputs": [
    {
     "name": "stdout",
     "output_type": "stream",
     "text": [
      "Your number is less than 10!\n"
     ]
    }
   ],
   "source": [
    "a = 5\n",
    "less_than_ten() if a < 10 else greater_than_or_equal_ten()"
   ]
  },
  {
   "cell_type": "code",
   "execution_count": 30,
   "id": "3e5f708b-e821-4677-9bbc-3689f1fc9c40",
   "metadata": {},
   "outputs": [
    {
     "name": "stdout",
     "output_type": "stream",
     "text": [
      "Your number is greater than or equal 10!\n"
     ]
    }
   ],
   "source": [
    "a = 15\n",
    "less_than_ten() if a < 10 else greater_than_or_equal_ten()"
   ]
  }
 ],
 "metadata": {
  "kernelspec": {
   "display_name": "Python 3.6.9 64-bit",
   "language": "python",
   "name": "python369jvsc74a57bd031f2aee4e71d21fbe5cf8b01ff0e069b9275f58929596ceb00d14d90e3e16cd6"
  },
  "language_info": {
   "codemirror_mode": {
    "name": "ipython",
    "version": 3
   },
   "file_extension": ".py",
   "mimetype": "text/x-python",
   "name": "python",
   "nbconvert_exporter": "python",
   "pygments_lexer": "ipython3",
   "version": "3.6.9"
  }
 },
 "nbformat": 4,
 "nbformat_minor": 5
}
