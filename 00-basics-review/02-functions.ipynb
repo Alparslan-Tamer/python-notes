{
 "cells": [
  {
   "cell_type": "markdown",
   "id": "21544a11-f3af-413c-8378-2218bdafb924",
   "metadata": {},
   "source": [
    "# Functions\n",
    "\n",
    "Python has many built-in functions and methods we can use\n",
    "\n",
    "Some are available by default:"
   ]
  },
  {
   "cell_type": "code",
   "execution_count": 1,
   "id": "858d94aa-859c-4dde-b193-fd9df0767bdf",
   "metadata": {},
   "outputs": [
    {
     "data": {
      "text/plain": [
       "3"
      ]
     },
     "execution_count": 1,
     "metadata": {},
     "output_type": "execute_result"
    }
   ],
   "source": [
    "s = [1, 2, 3]\n",
    "\n",
    "len(s)"
   ]
  },
  {
   "cell_type": "markdown",
   "id": "fd844026-5a82-475b-a4bb-529f555a8f67",
   "metadata": {},
   "source": [
    "While some need to be imported:"
   ]
  },
  {
   "cell_type": "code",
   "execution_count": 2,
   "id": "e23c4f6e-2154-499a-987c-0ff0177e5d38",
   "metadata": {},
   "outputs": [],
   "source": [
    "from math import sqrt"
   ]
  },
  {
   "cell_type": "code",
   "execution_count": 3,
   "id": "1a96a718-97da-45ad-a4cf-6109602dff9a",
   "metadata": {},
   "outputs": [
    {
     "data": {
      "text/plain": [
       "2.0"
      ]
     },
     "execution_count": 3,
     "metadata": {},
     "output_type": "execute_result"
    }
   ],
   "source": [
    "sqrt(4)"
   ]
  },
  {
   "cell_type": "markdown",
   "id": "972dc207-3bca-4e20-8b1f-7db620301427",
   "metadata": {},
   "source": [
    "Entire modules can be imported:"
   ]
  },
  {
   "cell_type": "code",
   "execution_count": 33,
   "id": "d89601ec-071b-470a-9a1e-017f3e3022f0",
   "metadata": {},
   "outputs": [],
   "source": [
    "import math"
   ]
  },
  {
   "cell_type": "code",
   "execution_count": 34,
   "id": "d3861e5e-6072-4321-b6b1-fd38502cc8a3",
   "metadata": {},
   "outputs": [
    {
     "data": {
      "text/plain": [
       "2.718281828459045"
      ]
     },
     "execution_count": 34,
     "metadata": {},
     "output_type": "execute_result"
    }
   ],
   "source": [
    "math.exp(1)"
   ]
  },
  {
   "cell_type": "markdown",
   "id": "ee76e49f-d5d4-4a0d-b9e7-84d5e40093a0",
   "metadata": {},
   "source": [
    "We can define our own functions:"
   ]
  },
  {
   "cell_type": "code",
   "execution_count": 35,
   "id": "04bcd2d1-9414-428f-be24-67d01312d4c5",
   "metadata": {},
   "outputs": [],
   "source": [
    "def func_1():\n",
    "    print(\"running func_1\")"
   ]
  },
  {
   "cell_type": "code",
   "execution_count": 36,
   "id": "63c0a554-260b-4c98-8b0a-0b51ffc84957",
   "metadata": {},
   "outputs": [
    {
     "name": "stdout",
     "output_type": "stream",
     "text": [
      "running func_1\n"
     ]
    }
   ],
   "source": [
    "func_1()"
   ]
  },
  {
   "cell_type": "markdown",
   "id": "c20087c6-7d16-40d6-8157-fb8d5ede0dc0",
   "metadata": {},
   "source": [
    "Note that to \"call\" or \"invoke\" a function we need to use the **()**.\n",
    "\n",
    "Simply using the function name without the **()** refers to the function, but does not call it:"
   ]
  },
  {
   "cell_type": "code",
   "execution_count": 38,
   "id": "37142236-a89e-4691-af2a-78f4f8bc2084",
   "metadata": {},
   "outputs": [
    {
     "data": {
      "text/plain": [
       "<function __main__.func_1()>"
      ]
     },
     "execution_count": 38,
     "metadata": {},
     "output_type": "execute_result"
    }
   ],
   "source": [
    "func_1"
   ]
  },
  {
   "cell_type": "markdown",
   "id": "316d7870-a569-45c8-9f63-e59561539270",
   "metadata": {},
   "source": [
    "We can also define functions that take parameters:"
   ]
  },
  {
   "cell_type": "code",
   "execution_count": 39,
   "id": "f940b751-6ed9-4249-8a2e-2eba1b984db4",
   "metadata": {},
   "outputs": [],
   "source": [
    "def func_2(a, b):\n",
    "    return a * b"
   ]
  },
  {
   "cell_type": "markdown",
   "id": "0bd8623a-0d6f-48a6-96d9-c73a125df9f6",
   "metadata": {},
   "source": [
    "Note that **a** and **b** can be any type (this is an example of polymorphism - which we will look into more detail later in this course). \n",
    "\n",
    "But the function will fail to run if **a** and **b** are types that are not \"compatible\" with the `*` operator:"
   ]
  },
  {
   "cell_type": "code",
   "execution_count": 40,
   "id": "9323eca3-8663-47d7-bd68-6cbd5b29e926",
   "metadata": {},
   "outputs": [
    {
     "data": {
      "text/plain": [
       "6"
      ]
     },
     "execution_count": 40,
     "metadata": {},
     "output_type": "execute_result"
    }
   ],
   "source": [
    "func_2(2, 3)"
   ]
  },
  {
   "cell_type": "code",
   "execution_count": 41,
   "id": "3946cc1c-8540-493a-b2ba-1ed1d624f7e3",
   "metadata": {},
   "outputs": [
    {
     "data": {
      "text/plain": [
       "'aaa'"
      ]
     },
     "execution_count": 41,
     "metadata": {},
     "output_type": "execute_result"
    }
   ],
   "source": [
    "func_2(\"a\", 3)"
   ]
  },
  {
   "cell_type": "code",
   "execution_count": 42,
   "id": "36cf50e4-f7e0-4a29-8969-009ded498152",
   "metadata": {},
   "outputs": [
    {
     "data": {
      "text/plain": [
       "[1, 2, 1, 2, 1, 2]"
      ]
     },
     "execution_count": 42,
     "metadata": {},
     "output_type": "execute_result"
    }
   ],
   "source": [
    "func_2([1, 2], 3)"
   ]
  },
  {
   "cell_type": "code",
   "execution_count": 43,
   "id": "201999cf-cdf6-4911-82f7-a55593407c9d",
   "metadata": {},
   "outputs": [
    {
     "ename": "TypeError",
     "evalue": "can't multiply sequence by non-int of type 'str'",
     "output_type": "error",
     "traceback": [
      "\u001b[0;31m---------------------------------------------------------------------------\u001b[0m",
      "\u001b[0;31mTypeError\u001b[0m                                 Traceback (most recent call last)",
      "\u001b[0;32m<ipython-input-43-010928b536c3>\u001b[0m in \u001b[0;36m<module>\u001b[0;34m\u001b[0m\n\u001b[0;32m----> 1\u001b[0;31m \u001b[0mfunc_2\u001b[0m\u001b[0;34m(\u001b[0m\u001b[0;34m\"a\"\u001b[0m\u001b[0;34m,\u001b[0m \u001b[0;34m\"a\"\u001b[0m\u001b[0;34m)\u001b[0m\u001b[0;34m\u001b[0m\u001b[0;34m\u001b[0m\u001b[0m\n\u001b[0m",
      "\u001b[0;32m<ipython-input-39-94e0d01c7944>\u001b[0m in \u001b[0;36mfunc_2\u001b[0;34m(a, b)\u001b[0m\n\u001b[1;32m      1\u001b[0m \u001b[0;32mdef\u001b[0m \u001b[0mfunc_2\u001b[0m\u001b[0;34m(\u001b[0m\u001b[0ma\u001b[0m\u001b[0;34m,\u001b[0m \u001b[0mb\u001b[0m\u001b[0;34m)\u001b[0m\u001b[0;34m:\u001b[0m\u001b[0;34m\u001b[0m\u001b[0;34m\u001b[0m\u001b[0m\n\u001b[0;32m----> 2\u001b[0;31m     \u001b[0;32mreturn\u001b[0m \u001b[0ma\u001b[0m \u001b[0;34m*\u001b[0m \u001b[0mb\u001b[0m\u001b[0;34m\u001b[0m\u001b[0;34m\u001b[0m\u001b[0m\n\u001b[0m",
      "\u001b[0;31mTypeError\u001b[0m: can't multiply sequence by non-int of type 'str'"
     ]
    }
   ],
   "source": [
    "func_2(\"a\", \"a\")"
   ]
  },
  {
   "cell_type": "markdown",
   "id": "bd80e10f-c251-4ed5-b677-db6af6bb4ba7",
   "metadata": {},
   "source": [
    "It is possible to use type annotations:"
   ]
  },
  {
   "cell_type": "code",
   "execution_count": 44,
   "id": "7d9d11de-7fe4-4e78-be6b-baf872393de6",
   "metadata": {},
   "outputs": [],
   "source": [
    "def func_3(a: int, b:int):\n",
    "    return a * b"
   ]
  },
  {
   "cell_type": "code",
   "execution_count": 45,
   "id": "86f65722-7925-465d-ad5c-d1726b282ef6",
   "metadata": {},
   "outputs": [
    {
     "data": {
      "text/plain": [
       "6"
      ]
     },
     "execution_count": 45,
     "metadata": {},
     "output_type": "execute_result"
    }
   ],
   "source": [
    "func_3(2, 3)"
   ]
  },
  {
   "cell_type": "code",
   "execution_count": 46,
   "id": "b879de75-5227-4ced-8b24-187851ac7015",
   "metadata": {},
   "outputs": [
    {
     "data": {
      "text/plain": [
       "'aaa'"
      ]
     },
     "execution_count": 46,
     "metadata": {},
     "output_type": "execute_result"
    }
   ],
   "source": [
    "func_3(\"a\", 3)"
   ]
  },
  {
   "cell_type": "markdown",
   "id": "4e90904e-be35-40ed-b11e-17b75eed9272",
   "metadata": {},
   "source": [
    "But as you can see, these do not enforce a data type! They are simply metadata that can be used by external libraries, and many IDE's."
   ]
  },
  {
   "cell_type": "markdown",
   "id": "6ee5b3ef-927b-448d-9e0a-3d252848cfd1",
   "metadata": {},
   "source": [
    "Functions are objects, just like integers are objects, and they can be assigned to variables just as an integer can:"
   ]
  },
  {
   "cell_type": "code",
   "execution_count": 48,
   "id": "3c25d12e-3ed3-44b0-9847-b18cf3f6316b",
   "metadata": {},
   "outputs": [],
   "source": [
    "my_func = func_3"
   ]
  },
  {
   "cell_type": "code",
   "execution_count": 49,
   "id": "8ae23f5e-0809-409d-9260-d964fabdc937",
   "metadata": {},
   "outputs": [
    {
     "data": {
      "text/plain": [
       "'aa'"
      ]
     },
     "execution_count": 49,
     "metadata": {},
     "output_type": "execute_result"
    }
   ],
   "source": [
    "my_func(\"a\", 2)"
   ]
  },
  {
   "cell_type": "markdown",
   "id": "fbb7e7e8-2d24-4b39-ac90-762381e50109",
   "metadata": {},
   "source": [
    "Functions **must** always return something. If you do not specify a return value, Python will automatically return the **None** object:"
   ]
  },
  {
   "cell_type": "code",
   "execution_count": 50,
   "id": "90c485de-2702-47c1-87d3-4fe132e57fcd",
   "metadata": {},
   "outputs": [],
   "source": [
    "def func_4():\n",
    "    # does sometihng but does not return a value\n",
    "    a = 2"
   ]
  },
  {
   "cell_type": "code",
   "execution_count": 53,
   "id": "6e16e960-0226-4c9a-9ca6-504fe3c21f3c",
   "metadata": {},
   "outputs": [],
   "source": [
    "res = func_4()"
   ]
  },
  {
   "cell_type": "code",
   "execution_count": 54,
   "id": "02ad01bd-ead0-4ef9-b695-b0edafbf1ce6",
   "metadata": {},
   "outputs": [
    {
     "name": "stdout",
     "output_type": "stream",
     "text": [
      "None\n"
     ]
    }
   ],
   "source": [
    "print(res)"
   ]
  },
  {
   "cell_type": "markdown",
   "id": "20df09ea-6199-4730-b775-8b8b523a1272",
   "metadata": {},
   "source": [
    "The **def** keyword is an executable piece of code that creates the function (an instance of the **function** class) and essentially assigns it to a variable name (the function **name**). \n",
    "\n",
    "Note that the function is defined when **def** is reached, but the code inside it is not evaluated until the function is called.\n",
    "\n",
    "This is why we can define functions that call other functions defined later - as long as we don't call them before all the necessary functions are defined."
   ]
  },
  {
   "cell_type": "markdown",
   "id": "b4a1ca07-8b20-4991-b955-666872fc424f",
   "metadata": {},
   "source": [
    "For example, the following will work:"
   ]
  },
  {
   "cell_type": "code",
   "execution_count": 55,
   "id": "bce82686-bcb7-4222-8212-d7775b7f2788",
   "metadata": {},
   "outputs": [
    {
     "name": "stdout",
     "output_type": "stream",
     "text": [
      "Hello\n"
     ]
    }
   ],
   "source": [
    "def fn_1():\n",
    "    fn_2()\n",
    "    \n",
    "def fn_2():\n",
    "    print('Hello')\n",
    "    \n",
    "fn_1()"
   ]
  },
  {
   "cell_type": "markdown",
   "id": "2a29409b-2670-474b-93ff-79a9281aa4c6",
   "metadata": {},
   "source": [
    "But this will not work:"
   ]
  },
  {
   "cell_type": "code",
   "execution_count": 56,
   "id": "f78cb5ec-746a-4669-a888-0df018cae245",
   "metadata": {},
   "outputs": [
    {
     "ename": "NameError",
     "evalue": "name 'fn_4' is not defined",
     "output_type": "error",
     "traceback": [
      "\u001b[0;31m---------------------------------------------------------------------------\u001b[0m",
      "\u001b[0;31mNameError\u001b[0m                                 Traceback (most recent call last)",
      "\u001b[0;32m<ipython-input-56-00a74014e7cd>\u001b[0m in \u001b[0;36m<module>\u001b[0;34m\u001b[0m\n\u001b[1;32m      2\u001b[0m     \u001b[0mfn_4\u001b[0m\u001b[0;34m(\u001b[0m\u001b[0;34m)\u001b[0m\u001b[0;34m\u001b[0m\u001b[0;34m\u001b[0m\u001b[0m\n\u001b[1;32m      3\u001b[0m \u001b[0;34m\u001b[0m\u001b[0m\n\u001b[0;32m----> 4\u001b[0;31m \u001b[0mfn_3\u001b[0m\u001b[0;34m(\u001b[0m\u001b[0;34m)\u001b[0m\u001b[0;34m\u001b[0m\u001b[0;34m\u001b[0m\u001b[0m\n\u001b[0m\u001b[1;32m      5\u001b[0m \u001b[0;34m\u001b[0m\u001b[0m\n\u001b[1;32m      6\u001b[0m \u001b[0;32mdef\u001b[0m \u001b[0mfn_4\u001b[0m\u001b[0;34m(\u001b[0m\u001b[0;34m)\u001b[0m\u001b[0;34m:\u001b[0m\u001b[0;34m\u001b[0m\u001b[0;34m\u001b[0m\u001b[0m\n",
      "\u001b[0;32m<ipython-input-56-00a74014e7cd>\u001b[0m in \u001b[0;36mfn_3\u001b[0;34m()\u001b[0m\n\u001b[1;32m      1\u001b[0m \u001b[0;32mdef\u001b[0m \u001b[0mfn_3\u001b[0m\u001b[0;34m(\u001b[0m\u001b[0;34m)\u001b[0m\u001b[0;34m:\u001b[0m\u001b[0;34m\u001b[0m\u001b[0;34m\u001b[0m\u001b[0m\n\u001b[0;32m----> 2\u001b[0;31m     \u001b[0mfn_4\u001b[0m\u001b[0;34m(\u001b[0m\u001b[0;34m)\u001b[0m\u001b[0;34m\u001b[0m\u001b[0;34m\u001b[0m\u001b[0m\n\u001b[0m\u001b[1;32m      3\u001b[0m \u001b[0;34m\u001b[0m\u001b[0m\n\u001b[1;32m      4\u001b[0m \u001b[0mfn_3\u001b[0m\u001b[0;34m(\u001b[0m\u001b[0;34m)\u001b[0m\u001b[0;34m\u001b[0m\u001b[0;34m\u001b[0m\u001b[0m\n\u001b[1;32m      5\u001b[0m \u001b[0;34m\u001b[0m\u001b[0m\n",
      "\u001b[0;31mNameError\u001b[0m: name 'fn_4' is not defined"
     ]
    }
   ],
   "source": [
    "def fn_3():\n",
    "    fn_4()\n",
    "\n",
    "fn_3()\n",
    "\n",
    "def fn_4():\n",
    "    print('Hello')"
   ]
  },
  {
   "cell_type": "markdown",
   "id": "6ce37383-61c4-4b26-88ff-199367fc3f34",
   "metadata": {},
   "source": [
    "We also have the **lambda** keyword, that also creates a new function, but does not assign it to any specific name - instead it just returns the function object - which we can, if we wish, assign to a variable ourselves:"
   ]
  },
  {
   "cell_type": "code",
   "execution_count": 57,
   "id": "ea18c8f4-df8a-4b64-9c7b-2528b8d54136",
   "metadata": {},
   "outputs": [],
   "source": [
    "func_5 = lambda x: x**2"
   ]
  },
  {
   "cell_type": "code",
   "execution_count": 58,
   "id": "25dbb786-3b96-4470-acf1-c23242f500ef",
   "metadata": {},
   "outputs": [
    {
     "data": {
      "text/plain": [
       "<function __main__.<lambda>(x)>"
      ]
     },
     "execution_count": 58,
     "metadata": {},
     "output_type": "execute_result"
    }
   ],
   "source": [
    "func_5"
   ]
  },
  {
   "cell_type": "code",
   "execution_count": 59,
   "id": "7815a030-32e1-46a9-a837-273cd0b4e8e1",
   "metadata": {},
   "outputs": [
    {
     "data": {
      "text/plain": [
       "4"
      ]
     },
     "execution_count": 59,
     "metadata": {},
     "output_type": "execute_result"
    }
   ],
   "source": [
    "func_5(2)"
   ]
  }
 ],
 "metadata": {
  "kernelspec": {
   "display_name": "Python 3",
   "language": "python",
   "name": "python3"
  },
  "language_info": {
   "codemirror_mode": {
    "name": "ipython",
    "version": 3
   },
   "file_extension": ".py",
   "mimetype": "text/x-python",
   "name": "python",
   "nbconvert_exporter": "python",
   "pygments_lexer": "ipython3",
   "version": "3.6.9"
  }
 },
 "nbformat": 4,
 "nbformat_minor": 5
}
